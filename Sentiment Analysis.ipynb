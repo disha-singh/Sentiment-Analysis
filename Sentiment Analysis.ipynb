{
 "cells": [
  {
   "cell_type": "code",
   "execution_count": 1,
   "metadata": {},
   "outputs": [
    {
     "name": "stdout",
     "output_type": "stream",
     "text": [
      "Enter Keyword/Tag to search about: bts\n",
      "Enter how many tweets to search: 200\n",
      "How people are reacting on bts by analyzing 200tweets.\n",
      "\n",
      "General Report: \n",
      "Positive\n",
      "\n",
      "Detailed Report: \n",
      "33.50% people thought it was positive\n",
      "12.50% people thought it was negative\n",
      "54.00% people thought it was neutral\n",
      "Polarity is 0.07840338203463204\n"
     ]
    },
    {
     "data": {
      "image/png": "[encoded data removed]",
      "text/plain": [
       "<Figure size 432x288 with 1 Axes>"
      ]
     },
     "metadata": {},
     "output_type": "display_data"
    }
   ],
   "source": [
    "import sys,tweepy,csv,re \n",
    "from textblob import TextBlob \n",
    "import matplotlib.pyplot as plt  \n",
    "class SentimentAnalysis:  \n",
    "    def __init__(self): \n",
    "        self.tweets = [] \n",
    "        self.tweetText = []  \n",
    "    def DownloadData(self):  \n",
    "        consumerKey = CONSUMER_KEY\n",
    "        consumerSecret = CONSUMER_SECRET_KEY\n",
    "        accessToken = ACCESS_TOKEN\n",
    "        accessTokenSecret = ACCESS_TOKEN_SECRET \n",
    "        auth = tweepy.OAuthHandler(consumerKey, consumerSecret) \n",
    "        auth.set_access_token(accessToken, accessTokenSecret) \n",
    "        api = tweepy.API(auth) \n",
    "      \n",
    "        searchTerm = input(\"Enter Keyword/Tag to search about: \") \n",
    "        NoOfTerms = int(input(\"Enter how many tweets to search: \")) \n",
    "        \n",
    "        self.tweets = tweepy.Cursor(api.search, q=searchTerm, lang = \"en\").items(NoOfTerms) \n",
    "        \n",
    "        csvFile = open('result.csv', 'a') \n",
    "        csvWriter = csv.writer(csvFile) \n",
    "        \n",
    "        polarity = 0 \n",
    "        positive = 0 \n",
    "        negative = 0 \n",
    "        neutral = 0   \n",
    "        for tweet in self.tweets: \n",
    "            self.tweetText.append(self.cleanTweet(tweet.text).encode('utf-8')) \n",
    "            analysis = TextBlob(tweet.text) \n",
    "            polarity += analysis.sentiment.polarity    \n",
    "            if (analysis.sentiment.polarity == 0):   \n",
    "                neutral += 1 \n",
    "            elif (analysis.sentiment.polarity > 0): \n",
    "                positive += 1 \n",
    "            elif (analysis.sentiment.polarity < 0): \n",
    "                negative += 1 \n",
    "    \n",
    "        csvWriter.writerow(self.tweetText) \n",
    "        csvFile.close()  \n",
    "        positive = self.percentage(positive, NoOfTerms) \n",
    "        negative = self.percentage(negative, NoOfTerms) \n",
    "        neutral = self.percentage(neutral, NoOfTerms) \n",
    "       \n",
    "        polarity = polarity / NoOfTerms \n",
    "        print(\"How people are reacting on \" + searchTerm + \" by analyzing \" + str(NoOfTerms) + \"tweets.\") \n",
    "        print() \n",
    "        print(\"General Report: \")  \n",
    "        if (polarity == 0): \n",
    "            print(\"Neutral\") \n",
    "        elif (polarity > 0.00): \n",
    "            print(\"Positive\") \n",
    "        elif (polarity < 0.00): \n",
    "            print(\"Negative\")  \n",
    "        print() \n",
    "        print(\"Detailed Report: \") \n",
    "        print(str(positive) + \"% people thought it was positive\") \n",
    "        print(str(negative) + \"% people thought it was negative\") \n",
    "        print(str(neutral) + \"% people thought it was neutral\") \n",
    "        print(\"Polarity is \" + str(polarity))  \n",
    "        self.PlotChart(positive, negative, neutral, searchTerm, NoOfTerms)  \n",
    "    def cleanTweet(self, tweet): \n",
    "        return ' '.join(re.sub(\"(@[A-Za-z0-9]+)|([^0-9A-Za-z \\t]) | (\\w +:\\ / \\ / \\S +)\", \" \", tweet).split())  \n",
    "    def percentage(self, part, whole): \n",
    "        temp = 100 * float(part) / float(whole) \n",
    "        return format(temp, '.2f')  \n",
    "              \n",
    "    def PlotChart(self, positive, negative, neutral, searchTerm, noOfSearchTerms): \n",
    "        labels = ['Positive [' + str(positive) + '%]', 'Neutral [' + str(neutral) + '%]','Negative [' + str(negative) + '%]'] \n",
    "        sizes = [positive, neutral, negative] \n",
    "        colors = ['green', 'gold', 'red'] \n",
    "        patches, texts = plt.pie(sizes, colors=colors, startangle=90) \n",
    "        plt.legend(patches, labels, loc=\"best\") \n",
    "        plt.title('How people are reacting on ' + searchTerm + ' by analyzing ' + str(noOfSearchTerms) + ' Tweets.') \n",
    "        plt.axis('equal') \n",
    "        plt.tight_layout() \n",
    "        plt.show()  \n",
    "if __name__== \"__main__\": \n",
    "    sa = SentimentAnalysis() \n",
    "    sa.DownloadData() "
   ]
  },
  {
   "cell_type": "code",
   "execution_count": null,
   "metadata": {},
   "outputs": [],
   "source": []
  }
 ],
 "metadata": {
  "kernelspec": {
   "display_name": "Python 3",
   "language": "python",
   "name": "python3"
  },
  "language_info": {
   "codemirror_mode": {
    "name": "ipython",
    "version": 3
   },
   "file_extension": ".py",
   "mimetype": "text/x-python",
   "name": "python",
   "nbconvert_exporter": "python",
   "pygments_lexer": "ipython3",
   "version": "3.7.6"
  }
 },
 "nbformat": 4,
 "nbformat_minor": 4
}
